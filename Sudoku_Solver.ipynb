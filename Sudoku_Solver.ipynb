{
 "cells": [
  {
   "cell_type": "code",
   "execution_count": 1,
   "metadata": {},
   "outputs": [],
   "source": [
    "grid =[\n",
    "    [6,5,0,8,7,3,0,9,0],\n",
    "    [0,0,3,2,5,0,0,0,8],\n",
    "    [9,8,0,1,0,4,3,5,7],\n",
    "    [1,0,5,0,0,0,0,0,0],\n",
    "    [4,0,0,0,0,0,0,0,2],\n",
    "    [0,0,0,0,0,0,5,0,3],\n",
    "    [5,7,8,3,0,1,0,2,6],\n",
    "    [2,0,0,0,4,8,9,0,0],\n",
    "    [0,9,0,6,2,5,0,8,1]\n",
    "    ]\n"
   ]
  },
  {
   "cell_type": "code",
   "execution_count": 4,
   "metadata": {},
   "outputs": [
    {
     "data": {
      "text/plain": [
       "9"
      ]
     },
     "execution_count": 4,
     "metadata": {},
     "output_type": "execute_result"
    }
   ],
   "source": [
    "K = len(grid)\n",
    "K"
   ]
  },
  {
   "cell_type": "code",
   "execution_count": 5,
   "metadata": {},
   "outputs": [],
   "source": [
    "def print_sudoku():\n",
    "    # Print Sudoku\n",
    "    for i in range(K):\n",
    "        if i % 3 == 0 and i!= 0:\n",
    "            print('----------------------')\n",
    "        for j in range(K):\n",
    "            if j % 3 == 0 and j != 0:\n",
    "                print(\" | \", end='')\n",
    "            if j == 8:\n",
    "                print(grid[i][j])\n",
    "            else:\n",
    "                print(grid[i][j],end=' ')\n"
   ]
  },
  {
   "cell_type": "code",
   "execution_count": 6,
   "metadata": {},
   "outputs": [],
   "source": [
    "def missing_num(row, col):\n",
    "    flag = 0\n",
    "    for i in range(K):\n",
    "        for j in range (K):\n",
    "            #cell is unassigned\n",
    "            if grid[i][j] == 0:\n",
    "                row = i\n",
    "                col = j\n",
    "                flag = 1\n",
    "                a = [row, col, flag]\n",
    "                return a\n",
    "    a = [-1, -1, flag]\n",
    "                                      \n",
    "    return a                                 \n"
   ]
  },
  {
   "cell_type": "code",
   "execution_count": 7,
   "metadata": {},
   "outputs": [],
   "source": [
    "def is_safe(n,r,c):\n",
    "    # row \n",
    "    for i in range(K):\n",
    "        if grid[r][i] == n:\n",
    "            return False \n",
    "\n",
    "    #column\n",
    "    for i in range(K):\n",
    "        if grid[i][c] == n:\n",
    "            return False\n",
    "\n",
    "    row_start = (r//3)*3\n",
    "    col_start = (c//3)*3\n",
    "    #checking submatrix\n",
    "    for i in range(row_start,row_start+3):\n",
    "        for j in range(col_start,col_start+3):\n",
    "            if grid[i][j]==n:\n",
    "                return False\n",
    "    return True\n"
   ]
  },
  {
   "cell_type": "code",
   "execution_count": 8,
   "metadata": {},
   "outputs": [
    {
     "name": "stdout",
     "output_type": "stream",
     "text": [
      "6 5 1  | 8 7 3  | 2 9 4\n",
      "7 4 3  | 2 5 9  | 1 6 8\n",
      "9 8 2  | 1 6 4  | 3 5 7\n",
      "----------------------\n",
      "1 2 5  | 4 3 6  | 8 7 9\n",
      "4 3 9  | 5 8 7  | 6 1 2\n",
      "8 6 7  | 9 1 2  | 5 4 3\n",
      "----------------------\n",
      "5 7 8  | 3 9 1  | 4 2 6\n",
      "2 1 6  | 7 4 8  | 9 3 5\n",
      "3 9 4  | 6 2 5  | 7 8 1\n"
     ]
    }
   ],
   "source": [
    "def solver():\n",
    "    row = 0\n",
    "    col = 0\n",
    "    a = missing_num(row, col)\n",
    "    if a[2] == 0:\n",
    "        return True\n",
    "    row = a[0]\n",
    "    col = a[1]\n",
    "    #number between 1 to 9\n",
    "    for i in range(1,K+1):\n",
    "        if is_safe(i, row, col):\n",
    "            grid[row][col] = i\n",
    "            if solver():\n",
    "                return True\n",
    "            grid[row][col]=0\n",
    "    return False\n",
    "\n",
    "if solver():\n",
    "    print_sudoku()\n",
    "else:\n",
    "    print('Check Your Sudoku')\n"
   ]
  },
  {
   "cell_type": "code",
   "execution_count": null,
   "metadata": {},
   "outputs": [],
   "source": []
  }
 ],
 "metadata": {
  "kernelspec": {
   "display_name": "Python 3",
   "language": "python",
   "name": "python3"
  },
  "language_info": {
   "codemirror_mode": {
    "name": "ipython",
    "version": 3
   },
   "file_extension": ".py",
   "mimetype": "text/x-python",
   "name": "python",
   "nbconvert_exporter": "python",
   "pygments_lexer": "ipython3",
   "version": "3.7.4"
  }
 },
 "nbformat": 4,
 "nbformat_minor": 4
}
